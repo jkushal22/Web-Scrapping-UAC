{
 "cells": [
  {
   "cell_type": "code",
   "execution_count": 30,
   "metadata": {},
   "outputs": [],
   "source": [
    "from selenium import webdriver\n",
    "from selenium.webdriver.chrome.service import Service\n",
    "from webdriver_manager.chrome import ChromeDriverManager\n",
    "from selenium.webdriver.chrome.options import Options\n",
    "from selenium.webdriver.common.by import By\n",
    "from bs4 import BeautifulSoup\n",
    "import pandas as pd"
   ]
  },
  {
   "cell_type": "code",
   "execution_count": 31,
   "metadata": {},
   "outputs": [],
   "source": [
    "# global variables\n",
    "\n",
    "l1, l2, l3, l4, l5, l6 = [],[],[],[],[],[]\n",
    "links=[]\n",
    "UniLinks=[]\n",
    "op = Options()\n",
    "op.add_argument('--headless')\n",
    "driver = webdriver.Chrome(service=Service(ChromeDriverManager().install()), options=op)"
   ]
  },
  {
   "cell_type": "code",
   "execution_count": 32,
   "metadata": {},
   "outputs": [],
   "source": [
    "def get_soup(flink, showAll = False, d = False):\n",
    "    driver.get(flink)\n",
    "    if showAll:\n",
    "        try:\n",
    "            driver.find_element(By.CLASS_NAME,\"showAlllink\").click()\n",
    "        except:\n",
    "            pass\n",
    "    driver.implicitly_wait(10)\n",
    "    soupfile = BeautifulSoup(driver.page_source, 'html.parser')\n",
    "    if d:\n",
    "        driver.close()\n",
    "    print(\"Soup Recieved\")\n",
    "    \n",
    "    return soupfile"
   ]
  },
  {
   "cell_type": "code",
   "execution_count": 33,
   "metadata": {},
   "outputs": [
    {
     "name": "stdout",
     "output_type": "stream",
     "text": [
      "Extracting Employability Rate\n",
      "Soup Recieved\n",
      "{'mq': ' 68.8% ', 'ws': ' 63.2% ', 'usyd': ' 75.5% ', 'uts': ' 72.9% ', 'unsw': ' 77% '}\n"
     ]
    }
   ],
   "source": [
    "print(\"Extracting Employability Rate\")\n",
    "\n",
    "EmpRateLink = \"https://www.gooduniversitiesguide.com.au/university-ratings-rankings/2023/undergraduate/full-time-employment\"\n",
    "soupy = get_soup(EmpRateLink)\n",
    "\n",
    "AllEmpRate = soupy.find_all('div', attrs={'class' : 'row mt-2 mb-3 pt-3 pb-3 bg-white border-bottom'})       \n",
    "\n",
    "uni_abv = {'Macquarie University':'mq','Western Sydney University':'ws','University of Sydney':'usyd','University of Technology Sydney (UTS)':'uts','UNSW Sydney':'unsw'}\n",
    "\n",
    "emp_rate = {\"mq\":None,\"ws\":None,\"usyd\":None, \"uts\":None, \"unsw\":None}\n",
    "\n",
    "for x in AllEmpRate:\n",
    "    for uni in ['Macquarie University','Western Sydney University','University of Sydney','University of Technology Sydney (UTS)','UNSW Sydney']:\n",
    "        if x.find('h5', attrs = {'class': 'mb-0 font-weight-bold'}).text.strip() == uni:\n",
    "            emp_rate[uni_abv[uni]] = x.find('span', attrs={'class' : 'mt-3 h5 theme-color-2'}).text\n",
    "\n",
    "print(emp_rate)"
   ]
  },
  {
   "cell_type": "code",
   "execution_count": 34,
   "metadata": {},
   "outputs": [
    {
     "name": "stdout",
     "output_type": "stream",
     "text": [
      "Soup Recieved\n"
     ]
    }
   ],
   "source": [
    "search = input(\"Enter the course name you want:\").rstrip().replace(\" \",\"+\")\n",
    "UAC_link= f'https://www.uac.edu.au/course-search/undergraduate/find-a-course.html?search={search}'\n",
    "soup =get_soup(UAC_link,showAll = True)\n",
    "course_cards= soup.find_all('div', attrs={'class' : 'col course-left-col'})"
   ]
  },
  {
   "cell_type": "code",
   "execution_count": 35,
   "metadata": {},
   "outputs": [],
   "source": [
    "for a in course_cards:\n",
    "    for h in a.find_all('a', href=True):\n",
    "        UniLinks.append(h['href'])\n",
    "        break\n",
    "\n",
    "for uni in UniLinks:\n",
    "    for unifil in emp_rate.keys():\n",
    "        if unifil in uni:\n",
    "                links.append(uni)\n",
    "                l6.append(emp_rate[unifil])"
   ]
  },
  {
   "cell_type": "code",
   "execution_count": 36,
   "metadata": {},
   "outputs": [
    {
     "name": "stdout",
     "output_type": "stream",
     "text": [
      "Soup Recieved\n",
      "Soup Recieved\n",
      "Soup Recieved\n"
     ]
    },
    {
     "data": {
      "text/html": [
       "<div>\n",
       "<style scoped>\n",
       "    .dataframe tbody tr th:only-of-type {\n",
       "        vertical-align: middle;\n",
       "    }\n",
       "\n",
       "    .dataframe tbody tr th {\n",
       "        vertical-align: top;\n",
       "    }\n",
       "\n",
       "    .dataframe thead th {\n",
       "        text-align: right;\n",
       "    }\n",
       "</style>\n",
       "<table border=\"1\" class=\"dataframe\">\n",
       "  <thead>\n",
       "    <tr style=\"text-align: right;\">\n",
       "      <th></th>\n",
       "      <th>Course Name</th>\n",
       "      <th>University Name</th>\n",
       "      <th>Course Location</th>\n",
       "      <th>Admission Criteria</th>\n",
       "      <th>ATAR</th>\n",
       "      <th>Employability Rate</th>\n",
       "    </tr>\n",
       "  </thead>\n",
       "  <tbody>\n",
       "    <tr>\n",
       "      <th>0</th>\n",
       "      <td>Bachelor of Social Work</td>\n",
       "      <td>University of Sydney</td>\n",
       "      <td>Camperdown/Darlington</td>\n",
       "      <td>Depends on first-year subjects chosen.</td>\n",
       "      <td>70.15</td>\n",
       "      <td>75.5%</td>\n",
       "    </tr>\n",
       "    <tr>\n",
       "      <th>1</th>\n",
       "      <td>Bachelor of Arts/Bachelor of Social Work</td>\n",
       "      <td>University of Sydney</td>\n",
       "      <td>Camperdown/Darlington</td>\n",
       "      <td>Depends on first-year subjects chosen.</td>\n",
       "      <td>73.75</td>\n",
       "      <td>75.5%</td>\n",
       "    </tr>\n",
       "    <tr>\n",
       "      <th>2</th>\n",
       "      <td>International Studies Combined Courses</td>\n",
       "      <td>University of Technology Sydney</td>\n",
       "      <td>City</td>\n",
       "      <td>No prior language knowledge is required; refer...</td>\n",
       "      <td>76.75</td>\n",
       "      <td>72.9%</td>\n",
       "    </tr>\n",
       "  </tbody>\n",
       "</table>\n",
       "</div>"
      ],
      "text/plain": [
       "                                Course Name                  University Name  \\\n",
       "0                  Bachelor of Social Work              University of Sydney   \n",
       "1  Bachelor of Arts/Bachelor of Social Work             University of Sydney   \n",
       "2    International Studies Combined Courses  University of Technology Sydney   \n",
       "\n",
       "         Course Location                                 Admission Criteria  \\\n",
       "0  Camperdown/Darlington             Depends on first-year subjects chosen.   \n",
       "1  Camperdown/Darlington             Depends on first-year subjects chosen.   \n",
       "2                   City  No prior language knowledge is required; refer...   \n",
       "\n",
       "    ATAR Employability Rate  \n",
       "0  70.15             75.5%   \n",
       "1  73.75             75.5%   \n",
       "2  76.75             72.9%   "
      ]
     },
     "execution_count": 36,
     "metadata": {},
     "output_type": "execute_result"
    }
   ],
   "source": [
    "for lnk in links:\n",
    "    soup=get_soup(lnk)\n",
    "    l1.append(soup.find('h1', attrs={'class' : 'course-title'}).text)\n",
    "    l2.append(soup.find('p', attrs={'class' : 'institution-name'}).text)\n",
    "    l3.append(soup.find('span', attrs={'class' : 'course-location-campus mt-0 mob-table-cell ng-binding'}).text)\n",
    "    l4.append(soup.find('div', attrs={'id' : 'admission'}).text.split(\"\\n\")[3].split(\":\")[1].strip())\n",
    "    l5.append(pd.read_html(str(soup.find('table', {'id': 'atarDataTable'})))[0]['Lowest ATAR'][0])\n",
    "\n",
    "driver.close()\n",
    "dict={\"Course Name\":l1, \"University Name\": l2,\"Course Location\": l3,\"Admission Criteria\":l4,\"ATAR\":l5, \"Employability Rate\":l6 }\n",
    "df=pd.DataFrame(dict)\n",
    "df.to_csv(\"project.csv\")\n",
    "df"
   ]
  }
 ],
 "metadata": {
  "kernelspec": {
   "display_name": "base",
   "language": "python",
   "name": "python3"
  },
  "language_info": {
   "codemirror_mode": {
    "name": "ipython",
    "version": 3
   },
   "file_extension": ".py",
   "mimetype": "text/x-python",
   "name": "python",
   "nbconvert_exporter": "python",
   "pygments_lexer": "ipython3",
   "version": "3.9.13"
  },
  "orig_nbformat": 4,
  "vscode": {
   "interpreter": {
    "hash": "3650c144f94a1f36ddc8da244dcf3142b2783f90eaa694bef31750ac45b7be27"
   }
  }
 },
 "nbformat": 4,
 "nbformat_minor": 2
}
